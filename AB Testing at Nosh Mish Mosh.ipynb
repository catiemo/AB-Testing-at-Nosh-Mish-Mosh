{
 "cells": [
  {
   "cell_type": "code",
   "execution_count": null,
   "id": "594b68fd",
   "metadata": {},
   "outputs": [],
   "source": [
    "# Importing libraries\n",
    "import noshmishmosh as nsh\n",
    "import numpy as np\n",
    "\n",
    "# Visitors within a typical week\n",
    "all_visitors = nsh.customer_visits\n",
    "\n",
    "# Visitors who end up buying a meal in a typical week\n",
    "paying_visitors = nsh.purchasing_customers\n",
    "\n",
    "# Number of all visitors within a typical week\n",
    "total_visitor_count = len(all_visitors)\n",
    "\n",
    "# Number of visitors who end up buying a meal in a typical week\n",
    "paying_visitor_count = len(paying_visitors)\n",
    "\n",
    "# Baseline rate\n",
    "baseline_percent = (paying_visitor_count / total_visitor_count) * 100\n",
    "print(baseline_percent)\n",
    "\n",
    "# Money spent by each customer within a typical week\n",
    "payment_history = nsh.money_spent\n",
    "print(payment_history)\n",
    "\n",
    "# Average payment per customer\n",
    "average_payment = np.mean(payment_history)\n",
    "print(average_payment)\n",
    "\n",
    "# New customers needed to generate $1240\n",
    "new_customers_needed = np.ceil(1240 / average_payment)\n",
    "print(new_customers_needed)\n",
    "\n",
    "# Additional percent of weekly visitors who need to make a purchase\n",
    "percentage_point_increase = (new_customers_needed / total_visitor_count) * 100\n",
    "print(percentage_point_increase)\n",
    "\n",
    "# Minimum detectable effect\n",
    "mde = (percentage_point_increase / baseline_percent) * 100\n",
    "print(mde)\n",
    "\n",
    "# Statisitcal Significance threshold\n",
    "significance_threshold = 0.1\n",
    "\n",
    "# Sample size\n",
    "ab_sample_size = 490"
   ]
  }
 ],
 "metadata": {
  "kernelspec": {
   "display_name": "Python 3",
   "language": "python",
   "name": "python3"
  },
  "language_info": {
   "codemirror_mode": {
    "name": "ipython",
    "version": 3
   },
   "file_extension": ".py",
   "mimetype": "text/x-python",
   "name": "python",
   "nbconvert_exporter": "python",
   "pygments_lexer": "ipython3",
   "version": "3.8.8"
  }
 },
 "nbformat": 4,
 "nbformat_minor": 5
}
